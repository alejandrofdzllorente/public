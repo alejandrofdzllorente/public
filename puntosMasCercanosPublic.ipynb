import math
import random
from time import time
import matplotlib.pyplot as plt

#distanciaEuclídea
def distancia(p1,p2):
  sum = 0
  for i in range(0,len(p1)):
    sum = sum +  math.sqrt(pow(p1[i] - p2[i],2))
  return sum

def creaLista(dimension, elementos):
    #creación de x listas
    for i in range(0,elementos):
        locals()['elementos' + str(i)] =  [random.randint(0,1000) for _ in range(dimension)]
    lista = []
    #unión de las listas en una lista
    for i in range(0,elementos):
        lista.append(locals()['elementos' + str(i)])
    return lista


def puntosMasCercanos(dimension, elementos):
    #se crea la lista con la función anterior
    lista = creaLista(dimension, elementos)
    #valor de comienzo, lo más grande posible
    minimo = float('inf')
    cercanos = ()
    puntos=()
    #inicio del tiempo del experimentos
    start_time = time()
    #EXPERIMENTO
    for i in range(0,elementos):
        for j in range( i + 1, elementos):
            if distancia(lista[i],lista[j]) < minimo:
                minimo = distancia(lista[i],lista[j])
                cercanos = (lista[i],lista[j])
                puntos = (i,j)
    #tiempo de ejecución del experimento
    tiempo = time() - start_time    
    return [cercanos,puntos,tiempo]


# =============================================================================
#EXPERIMENTO
# =============================================================================

#número de valores por cada punto
dimension = 5
#número de puntos de la lista
elementos = 200

prueba = puntosMasCercanos(dimension, elementos)

print("")
print("Los puntos más cercanos son los que tienen como valor: " + str(prueba[0]))
print("")
print("Los puntos más cercanos son los de las posiciones: " + str(prueba[1]))
print("")
print("El tiempo de ejecución para una dimensión "+ str(dimension) +" y " + str(elementos) + " elementos ha sido : " + str(prueba[2]))
print("")


# =============================================================================
#PRUEBAS
# =============================================================================



#prueba de subir elementos
prueba1 = [5,1]
prueba2 = [5,100]
prueba3 = [5,200]
prueba4 = [5,300]
prueba5 = [5,400]
prueba6 = [5,500]
prueba7 = [5,600]
prueba8 = [5,700]
prueba9 = [5,800]
prueba10 = [5,900]

y = []

for i in range (1,11):
    locals()['resultados' + str(i)] = puntosMasCercanos(locals()['prueba' + str(i)][0], locals()['prueba' + str(i)][1])
    y.append(locals()['resultados' + str(i)][2])
    
plt.figure(figsize=(16,3))
plt.title('Crecimiento del tiempo subiendo el número de elementos en la lista')
plt.ylabel("Tiempo de ejecución")
plt.plot(y)
plt.show()    
    
    
    

#prueba de subir dimension
prueba1 = [1,5]
prueba2 = [100,5]
prueba3 = [200,5]
prueba4 = [300,5]
prueba5 = [400,5]
prueba6 = [500,5]
prueba7 = [600,5]
prueba8 = [700,5]
prueba9 = [800,5]
prueba10 = [900,5]

y = []

for i in range (1,11):
    locals()['resultados' + str(i)] = puntosMasCercanos(locals()['prueba' + str(i)][0], locals()['prueba' + str(i)][1])
    y.append(locals()['resultados' + str(i)][2])
    
plt.figure(figsize=(16,3))
plt.title('Crecimiento del tiempo subiendo la dimensión la lista')
plt.ylabel("Tiempo de ejecución")
plt.plot(y)
plt.show()    
    


#prueba de subir las dos
prueba1 = [1,1]
prueba2 = [50,50]
prueba3 = [100,100]
prueba4 = [150,150]
prueba5 = [200,200]
prueba6 = [250,250]
prueba7 = [300,300]
prueba8 = [350,350]
prueba9 = [450,450]
prueba10 = [500,500]

y = []

for i in range (1,11):
    locals()['resultados' + str(i)] = puntosMasCercanos(locals()['prueba' + str(i)][0], locals()['prueba' + str(i)][1])
    y.append(locals()['resultados' + str(i)][2])
    
plt.figure(figsize=(16,3))
plt.title('Crecimiento del tiempo subiendo todo')
plt.ylabel("Tiempo de ejecución")
plt.plot(y)
plt.show()
