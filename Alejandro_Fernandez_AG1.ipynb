{
  "nbformat": 4,
  "nbformat_minor": 0,
  "metadata": {
    "colab": {
      "name": "Alejandro Fernandez - AG1.ipynb",
      "provenance": [],
      "collapsed_sections": [],
      "toc_visible": true,
      "mount_file_id": "1PMdtV_Nu8G6ehzMEML3qi1g-JLHuTfpa",
      "authorship_tag": "ABX9TyPGl0cOdPPpw5GO5N2ZG4c8",
      "include_colab_link": true
    },
    "kernelspec": {
      "name": "python3",
      "display_name": "Python 3"
    }
  },
  "cells": [
    {
      "cell_type": "markdown",
      "metadata": {
        "id": "view-in-github",
        "colab_type": "text"
      },
      "source": [
        "<a href=\"https://colab.research.google.com/github/alejandrofdzllorente/public/blob/main/Alejandro_Fernandez_AG1.ipynb\" target=\"_parent\"><img src=\"https://colab.research.google.com/assets/colab-badge.svg\" alt=\"Open In Colab\"/></a>"
      ]
    },
    {
      "cell_type": "markdown",
      "metadata": {
        "id": "8gGSEWh5yxsE"
      },
      "source": [
        "# Actividad Guiada 1 de Algoritmos de Optimización 1\r\n",
        "\r\n",
        "Alejandro Fernández Llorente\r\n",
        "\r\n",
        "URL: https://colab.research.google.com/drive/1PMdtV_Nu8G6ehzMEML3qi1g-JLHuTfpa?usp=sharing\r\n",
        "\r\n",
        "GitHub: https://github.com/alejandrofdzllorente/03MAIR-Algoritmos-de-Optimizacion/blob/main/Alejandro_Fernandez_AG1.ipynb\r\n"
      ]
    },
    {
      "cell_type": "markdown",
      "metadata": {
        "id": "tvYaC94p83ln"
      },
      "source": [
        "##Torres de Hanoi utilizando \"divide y vencerás\""
      ]
    },
    {
      "cell_type": "code",
      "metadata": {
        "colab": {
          "base_uri": "https://localhost:8080/"
        },
        "id": "8EynsOiZ5p04",
        "outputId": "0edea0fd-1a2a-43e5-b129-6a5ff8559461"
      },
      "source": [
        "\r\n",
        "\r\n",
        "def TorresHanoi(fichas,origen, destino):\r\n",
        "  posiblidades = {1,2,3}\r\n",
        "  #caso base\r\n",
        "  if (fichas == 1):\r\n",
        "    print(\"Lleva la ficha desde\" , origen , \"hasta \" , destino)\r\n",
        "  else:\r\n",
        "    destinoAux = next(iter(posiblidades - {origen, destino}))\r\n",
        "    TorresHanoi(fichas - 1 , origen, destinoAux)\r\n",
        "    print(\"Lleva la ficha desde\" , origen , \"hasta \" , destino)\r\n",
        "    TorresHanoi(fichas - 1 , destinoAux, destino)\r\n",
        "\r\n",
        "\r\n",
        "#solución deseada\r\n",
        "TorresHanoi(3,1,3)\r\n",
        "\r\n",
        "#TorresHanoi(1,1,3)\r\n",
        "\r\n"
      ],
      "execution_count": null,
      "outputs": [
        {
          "output_type": "stream",
          "text": [
            "Lleva la ficha desde 1 hasta  3\n",
            "Lleva la ficha desde 1 hasta  2\n",
            "Lleva la ficha desde 3 hasta  2\n",
            "Lleva la ficha desde 1 hasta  3\n",
            "Lleva la ficha desde 2 hasta  1\n",
            "Lleva la ficha desde 2 hasta  3\n",
            "Lleva la ficha desde 1 hasta  3\n"
          ],
          "name": "stdout"
        }
      ]
    },
    {
      "cell_type": "markdown",
      "metadata": {
        "id": "BE2L0jExuF41"
      },
      "source": [
        "## Devolución de cambio utilizando técnica voraz"
      ]
    },
    {
      "cell_type": "code",
      "metadata": {
        "id": "bpYTIvzfuOOg",
        "colab": {
          "base_uri": "https://localhost:8080/"
        },
        "outputId": "a4dd516e-56d5-4db0-9479-8dbbe778d39c"
      },
      "source": [
        "def cambioMonedas(cantidad, sistema):\r\n",
        "  #lista con la solución, inicializada a cero\r\n",
        "  solucion = [0] * len(sistema)\r\n",
        "\r\n",
        "  for i,valor in enumerate(sistema):\r\n",
        "    #hallamos el divisor entero y lo guardamos\r\n",
        "    solucion[i] = cantidad // valor\r\n",
        "    #si es cero, continuamos\r\n",
        "    if (solucion[i] == 0):\r\n",
        "      continue\r\n",
        "    #en caso contrario, calculamos la cantidad que falta\r\n",
        "    cantidad = cantidad % (valor*solucion[i])\r\n",
        "  \r\n",
        "  #solución obtenida\r\n",
        "  return solucion\r\n",
        "\r\n",
        "cambioMonedas(141,[25,10,5,2])"
      ],
      "execution_count": 31,
      "outputs": [
        {
          "output_type": "execute_result",
          "data": {
            "text/plain": [
              "[5, 1, 1, 0]"
            ]
          },
          "metadata": {
            "tags": []
          },
          "execution_count": 31
        }
      ]
    },
    {
      "cell_type": "markdown",
      "metadata": {
        "id": "0uBpp_iZFOEH"
      },
      "source": [
        "### ¿Qué tiene que pasar para que funcione bien?\r\n",
        "\r\n",
        "Si entendemos funcionar bien como que nos dé el mínimo número de monedas, lo ideal seria que la cantidad a cambiar sea múltiplo del número más grande del sistema monetario."
      ]
    },
    {
      "cell_type": "markdown",
      "metadata": {
        "id": "MuIZNG2-F7lF"
      },
      "source": [
        "##Problema de las N-Reinas utilizando backtracking"
      ]
    },
    {
      "cell_type": "code",
      "metadata": {
        "colab": {
          "base_uri": "https://localhost:8080/"
        },
        "id": "Xn4zPtrUGCgC",
        "outputId": "400c508d-e444-40b8-a204-0e7681738bf8"
      },
      "source": [
        "def escribe(S):\r\n",
        "  n = len(S)\r\n",
        "  for x in range(n):\r\n",
        "    print(\"\")\r\n",
        "    for i in range(n):\r\n",
        "      if S[i] == x+1:\r\n",
        "        print(\" X \" , end=\"\")\r\n",
        "      else:\r\n",
        "        print(\" - \", end=\"\")\r\n",
        "\r\n",
        "\r\n",
        "\r\n",
        "def es_prometedora(SOLUCION,etapa):\r\n",
        "  #print(SOLUCION)\r\n",
        "  #Si la solución tiene dos valores iguales no es valida => Dos reinas en la misma fila\r\n",
        "  for i in range(etapa+1):\r\n",
        "    #print(\"El valor \" + str(SOLUCION[i]) + \" está \" +  str(SOLUCION.count(SOLUCION[i])) + \" veces\")\r\n",
        "    if SOLUCION.count(SOLUCION[i]) > 1:       \r\n",
        "      return False\r\n",
        "\r\n",
        "    #Verifica las diagonales\r\n",
        "    for j in range(i+1, etapa +1 ):\r\n",
        "      #print(\"Comprobando diagonal de \" + str(i) + \" y \" + str(j))\r\n",
        "      if abs(i-j) == abs(SOLUCION[i]-SOLUCION[j]) : return False\r\n",
        "  return True\r\n",
        "\r\n",
        "\r\n",
        "\r\n",
        "\r\n",
        "def reinas (nReinas, solucion=[], etapa=0):\r\n",
        "  #inicializamos el vector solución\r\n",
        "  if (len(solucion) == 0):\r\n",
        "    solucion = [0 for i in range(0,nReinas)]\r\n",
        "\r\n",
        "  for i in range(1,nReinas + 1):\r\n",
        "    solucion[etapa] = i\r\n",
        "\r\n",
        "    if (es_prometedora(solucion,etapa)):\r\n",
        "      if (etapa == nReinas - 1):\r\n",
        "        print (solucion)\r\n",
        "        escribe(solucion)\r\n",
        "        print()\r\n",
        "        print()\r\n",
        "      else:\r\n",
        "        reinas(nReinas,solucion,etapa+1)\r\n",
        "    #reset\r\n",
        "    solucion[etapa] = 0\r\n",
        "\r\n",
        "reinas(4)"
      ],
      "execution_count": 21,
      "outputs": [
        {
          "output_type": "stream",
          "text": [
            "[2, 4, 1, 3]\n",
            "\n",
            " -  -  X  - \n",
            " X  -  -  - \n",
            " -  -  -  X \n",
            " -  X  -  - \n",
            "\n",
            "[3, 1, 4, 2]\n",
            "\n",
            " -  X  -  - \n",
            " -  -  -  X \n",
            " X  -  -  - \n",
            " -  -  X  - \n",
            "\n"
          ],
          "name": "stdout"
        }
      ]
    }
  ]
}